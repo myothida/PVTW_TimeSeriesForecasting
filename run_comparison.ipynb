{
 "cells": [
  {
   "cell_type": "code",
   "execution_count": 1,
   "metadata": {},
   "outputs": [],
   "source": [
    "import pandas as pd\n",
    "from utils.plot_helper import plot_compare_predictions\n",
    "from datetime import date\n",
    "import os\n",
    "from pathlib import Path\n",
    "\n",
    "today = date.today()\n",
    "\n",
    "tst_path = './results/data/2025-01-13_TSTransformer/'\n",
    "nf_path = './results/data/2025-01-13_NFModels/'\n"
   ]
  },
  {
   "cell_type": "code",
   "execution_count": 2,
   "metadata": {},
   "outputs": [],
   "source": [
    "op_length = 28\n",
    "features = ['fatalities', 'event']\n",
    "\n",
    "for feature in features:\n",
    "    result_path = f'./results/images/compare/{today}/{feature}'\n",
    "    os.makedirs(result_path, exist_ok=True)\n",
    "\n",
    "    nf_data = pd.read_csv(f\"{nf_path}/daily_{feature}_results.csv\")\n",
    "    nf_data.columns\n",
    "    \n",
    "    nf_df = nf_data[['ds', 'actual', 'DLinear', 'NBEATS', 'VanillaTransformer']].copy()\n",
    "    directory = Path(f\"{tst_path}/{feature}\")\n",
    "    file_count = len([file for file in directory.iterdir() if file.is_file()])\n",
    "\n",
    "    for k in range(file_count):\n",
    "        tst_data = pd.read_csv(f\"{tst_path}/{feature}/{k:03d}.csv\") \n",
    "        ds, actual, predict = tst_data.columns\n",
    "\n",
    "        timestamps = tst_data[ds].values\n",
    "        input_sequence = tst_data.loc[0:2*op_length-1, actual].values\n",
    "        actual_sequence  = tst_data.loc[2*op_length:, actual].values\n",
    "\n",
    "        tst = tst_data.loc[2*op_length:]\n",
    "\n",
    "        nf_batch = nf_df[op_length*k:op_length*(k+1)].copy()\n",
    "        nf_batch = nf_batch[nf_batch['ds'].isin(timestamps)].copy()\n",
    "        predict_data = pd.merge(nf_batch, tst, left_on = 'ds', right_on = ds)\n",
    "        predict_data = predict_data.drop(columns = ['ds', 'actual_x', 'actual_y', 'timestamps'])\n",
    "        predict_data = predict_data.rename(columns = {predict:\"TSTransformer\"})\n",
    "        if (k%op_length==0):\n",
    "            plot_compare_predictions(input_sequence, actual_sequence, predict_data, timestamps, feature, result_path)\n",
    "\n",
    "\n",
    "\n",
    "   \n",
    "    "
   ]
  }
 ],
 "metadata": {
  "kernelspec": {
   "display_name": ".venv",
   "language": "python",
   "name": "python3"
  },
  "language_info": {
   "codemirror_mode": {
    "name": "ipython",
    "version": 3
   },
   "file_extension": ".py",
   "mimetype": "text/x-python",
   "name": "python",
   "nbconvert_exporter": "python",
   "pygments_lexer": "ipython3",
   "version": "3.12.2"
  }
 },
 "nbformat": 4,
 "nbformat_minor": 2
}
